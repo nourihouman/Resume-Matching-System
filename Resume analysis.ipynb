{
 "cells": [
  {
   "cell_type": "code",
   "execution_count": 4,
   "id": "9b5a5270",
   "metadata": {},
   "outputs": [],
   "source": [
    "import spacy\n",
    "from spacy.pipeline import EntityRuler\n",
    "from collections import Counter\n",
    "from spacy import displacy\n",
    "import random\n",
    "\n",
    "import pandas as pd\n",
    "import matplotlib.pyplot as plt\n",
    "import seaborn as sns\n",
    "\n",
    "import nltk\n",
    "from nltk.corpus import stopwords\n",
    "from nltk.stem import WordNetLemmatizer\n",
    "import re\n",
    "from collections import Counter\n"
   ]
  },
  {
   "cell_type": "code",
   "execution_count": 38,
   "id": "0720d56b",
   "metadata": {},
   "outputs": [],
   "source": [
    "file_path = r'C\your file path\resume.csv\n",
    "\n",
    "# Read specific columns and rename them\n",
    "resumes = pd.read_csv(file_path, usecols=[0, 1, 2, 3], header=0, names=['ID', 'resume_str', 'resume_html', 'category'])\n",
    "# Sample 200 random resumes\n",
    "sampled_resumes = resumes.sample(n=200, random_state=1)\n",
    "\n"
   ]
  },
  {
   "cell_type": "code",
   "execution_count": 51,
   "id": "a17b1a61",
   "metadata": {
    "scrolled": true
   },
   "outputs": [
    {
     "data": {
      "text/html": [
       "<div>\n",
       "<style scoped>\n",
       "    .dataframe tbody tr th:only-of-type {\n",
       "        vertical-align: middle;\n",
       "    }\n",
       "\n",
       "    .dataframe tbody tr th {\n",
       "        vertical-align: top;\n",
       "    }\n",
       "\n",
       "    .dataframe thead th {\n",
       "        text-align: right;\n",
       "    }\n",
       "</style>\n",
       "<table border=\"1\" class=\"dataframe\">\n",
       "  <thead>\n",
       "    <tr style=\"text-align: right;\">\n",
       "      <th></th>\n",
       "      <th>ID</th>\n",
       "      <th>resume_str</th>\n",
       "      <th>resume_html</th>\n",
       "      <th>category</th>\n",
       "    </tr>\n",
       "  </thead>\n",
       "  <tbody>\n",
       "    <tr>\n",
       "      <th>725</th>\n",
       "      <td>43994605</td>\n",
       "      <td>MEDICAL SUPPORT ASSISTANT       Profe...</td>\n",
       "      <td>&lt;div class=\"fontsize fontface vmargins hmargin...</td>\n",
       "      <td>HEALTHCARE</td>\n",
       "    </tr>\n",
       "    <tr>\n",
       "      <th>1565</th>\n",
       "      <td>78403342</td>\n",
       "      <td>ACCOUNTANT           Summary     Self...</td>\n",
       "      <td>&lt;div class=\"fontsize fontface vmargins hmargin...</td>\n",
       "      <td>ACCOUNTANT</td>\n",
       "    </tr>\n",
       "    <tr>\n",
       "      <th>1422</th>\n",
       "      <td>74236636</td>\n",
       "      <td>ENGINEERING INTERN         Summary   ...</td>\n",
       "      <td>&lt;div class=\"fontsize fontface vmargins hmargin...</td>\n",
       "      <td>ENGINEERING</td>\n",
       "    </tr>\n",
       "    <tr>\n",
       "      <th>1145</th>\n",
       "      <td>31169070</td>\n",
       "      <td>CONSULTANT         Profile     A high...</td>\n",
       "      <td>&lt;div class=\"fontsize fontface vmargins hmargin...</td>\n",
       "      <td>CONSULTANT</td>\n",
       "    </tr>\n",
       "    <tr>\n",
       "      <th>1084</th>\n",
       "      <td>28867567</td>\n",
       "      <td>JS         SALES REPRESENTATIVE-PSR   ...</td>\n",
       "      <td>&lt;div class=\"RNA skn-mng3 fontsize fontface vma...</td>\n",
       "      <td>SALES</td>\n",
       "    </tr>\n",
       "    <tr>\n",
       "      <th>...</th>\n",
       "      <td>...</td>\n",
       "      <td>...</td>\n",
       "      <td>...</td>\n",
       "      <td>...</td>\n",
       "    </tr>\n",
       "    <tr>\n",
       "      <th>87</th>\n",
       "      <td>19179079</td>\n",
       "      <td>RECRUITING AND HR MANAGER       Summa...</td>\n",
       "      <td>&lt;div class=\"fontsize fontface vmargins hmargin...</td>\n",
       "      <td>HR</td>\n",
       "    </tr>\n",
       "    <tr>\n",
       "      <th>76</th>\n",
       "      <td>26671167</td>\n",
       "      <td>DIRECTV HR RECRUITER/ ADMINISTRATION ...</td>\n",
       "      <td>&lt;div class=\"fontsize fontface vmargins hmargin...</td>\n",
       "      <td>HR</td>\n",
       "    </tr>\n",
       "    <tr>\n",
       "      <th>40</th>\n",
       "      <td>41523474</td>\n",
       "      <td>HR EXECUTIVE       Summary     Dual s...</td>\n",
       "      <td>&lt;div class=\"fontsize fontface vmargins hmargin...</td>\n",
       "      <td>HR</td>\n",
       "    </tr>\n",
       "    <tr>\n",
       "      <th>587</th>\n",
       "      <td>20357858</td>\n",
       "      <td>FOUNDER, BUSINESS DEVELOPMENT DIRECTO...</td>\n",
       "      <td>&lt;div class=\"fontsize fontface vmargins hmargin...</td>\n",
       "      <td>BUSINESS-DEVELOPMENT</td>\n",
       "    </tr>\n",
       "    <tr>\n",
       "      <th>353</th>\n",
       "      <td>66906212</td>\n",
       "      <td>TEACHER           Summary     Thank y...</td>\n",
       "      <td>&lt;div class=\"fontsize fontface vmargins hmargin...</td>\n",
       "      <td>TEACHER</td>\n",
       "    </tr>\n",
       "  </tbody>\n",
       "</table>\n",
       "<p>200 rows × 4 columns</p>\n",
       "</div>"
      ],
      "text/plain": [
       "            ID                                         resume_str  \\\n",
       "725   43994605           MEDICAL SUPPORT ASSISTANT       Profe...   \n",
       "1565  78403342           ACCOUNTANT           Summary     Self...   \n",
       "1422  74236636           ENGINEERING INTERN         Summary   ...   \n",
       "1145  31169070           CONSULTANT         Profile     A high...   \n",
       "1084  28867567          JS         SALES REPRESENTATIVE-PSR   ...   \n",
       "...        ...                                                ...   \n",
       "87    19179079           RECRUITING AND HR MANAGER       Summa...   \n",
       "76    26671167           DIRECTV HR RECRUITER/ ADMINISTRATION ...   \n",
       "40    41523474           HR EXECUTIVE       Summary     Dual s...   \n",
       "587   20357858           FOUNDER, BUSINESS DEVELOPMENT DIRECTO...   \n",
       "353   66906212           TEACHER           Summary     Thank y...   \n",
       "\n",
       "                                            resume_html              category  \n",
       "725   <div class=\"fontsize fontface vmargins hmargin...            HEALTHCARE  \n",
       "1565  <div class=\"fontsize fontface vmargins hmargin...            ACCOUNTANT  \n",
       "1422  <div class=\"fontsize fontface vmargins hmargin...           ENGINEERING  \n",
       "1145  <div class=\"fontsize fontface vmargins hmargin...            CONSULTANT  \n",
       "1084  <div class=\"RNA skn-mng3 fontsize fontface vma...                 SALES  \n",
       "...                                                 ...                   ...  \n",
       "87    <div class=\"fontsize fontface vmargins hmargin...                    HR  \n",
       "76    <div class=\"fontsize fontface vmargins hmargin...                    HR  \n",
       "40    <div class=\"fontsize fontface vmargins hmargin...                    HR  \n",
       "587   <div class=\"fontsize fontface vmargins hmargin...  BUSINESS-DEVELOPMENT  \n",
       "353   <div class=\"fontsize fontface vmargins hmargin...               TEACHER  \n",
       "\n",
       "[200 rows x 4 columns]"
      ]
     },
     "execution_count": 51,
     "metadata": {},
     "output_type": "execute_result"
    }
   ],
   "source": [
    "sampled_resumes"
   ]
  },
  {
   "cell_type": "code",
   "execution_count": 54,
   "id": "ea22db03",
   "metadata": {},
   "outputs": [],
   "source": [
    "sampled_resumes['resume_str'].isnull().sum() \n",
    "sampled_resumes.dropna(subset=['resume_str'], inplace=True)"
   ]
  },
  {
   "cell_type": "code",
   "execution_count": 50,
   "id": "d2c44220",
   "metadata": {},
   "outputs": [
    {
     "name": "stderr",
     "output_type": "stream",
     "text": [
      "[nltk_data] Downloading package stopwords to\n",
      "[nltk_data]     C:\\Users\\Admin\\AppData\\Roaming\\nltk_data...\n",
      "[nltk_data]   Package stopwords is already up-to-date!\n",
      "[nltk_data] Downloading package wordnet to\n",
      "[nltk_data]     C:\\Users\\Admin\\AppData\\Roaming\\nltk_data...\n",
      "[nltk_data] Downloading package omw-1.4 to\n",
      "[nltk_data]     C:\\Users\\Admin\\AppData\\Roaming\\nltk_data...\n"
     ]
    }
   ],
   "source": [
    "\n",
    "# Download necessary NLTK resources\n",
    "nltk.download('stopwords')\n",
    "nltk.download('wordnet')\n",
    "nltk.download('omw-1.4')\n",
    "\n",
    "# Initialize lemmatizer and stopwords list\n",
    "lemmatizer = WordNetLemmatizer()\n",
    "stop_words = set(stopwords.words('english'))\n",
    "\n",
    "def clean_text(text):\n",
    "    # Remove hyperlinks\n",
    "    text = re.sub(r'https?://\\S+|www\\.\\S+', '', text)\n",
    "    # Remove special characters and numbers\n",
    "    text = re.sub(r'\\W+|\\d+', ' ', text)\n",
    "    # Convert text to lowercase\n",
    "    text = text.lower()\n",
    "    # Tokenize text\n",
    "    tokens = text.split()\n",
    "    # Lemmatize and remove stopwords\n",
    "    tokens = [lemmatizer.lemmatize(word) for word in tokens if word not in stop_words]\n",
    "    return ' '.join(tokens)\n"
   ]
  },
  {
   "cell_type": "code",
   "execution_count": 55,
   "id": "c719e211",
   "metadata": {},
   "outputs": [],
   "source": [
    "sampled_resumes['Clean_Resume'] = sampled_resumes['resume_str'].apply(clean_text)\n"
   ]
  },
  {
   "cell_type": "code",
   "execution_count": 88,
   "id": "88d276dc",
   "metadata": {},
   "outputs": [],
   "source": [
    "def setup_spacy():\n",
    "    nlp = spacy.load('en_core_web_sm')\n",
    "    ruler = nlp.add_pipe(\"entity_ruler\", before=\"ner\")\n",
    "    patterns_path = r'C:\\Users\\Admin\\Desktop\\classify song genres\\resume by sPicy\\jz_skill_patterns.jsonl'\n",
    "    ruler.from_disk(patterns_path)\n",
    "    return nlp\n"
   ]
  },
  {
   "cell_type": "code",
   "execution_count": 84,
   "id": "c3fdc12e",
   "metadata": {},
   "outputs": [],
   "source": [
    "def extract_skills(resume_text, nlp):\n",
    "    doc = nlp(resume_text)\n",
    "    skills = [ent.text for ent in doc.ents if ent.label_ == \"SKILL\"]\n",
    "    return skills\n"
   ]
  },
  {
   "cell_type": "code",
   "execution_count": 89,
   "id": "d691d47b",
   "metadata": {
    "scrolled": true
   },
   "outputs": [
    {
     "name": "stdout",
     "output_type": "stream",
     "text": [
      "                                           Clean_Resume  \\\n",
      "725   medical support assistant professional summary...   \n",
      "1565  accountant summary self motivated accountant o...   \n",
      "1422  engineering intern summary contribute skill ex...   \n",
      "1145  consultant profile highly accomplished skilled...   \n",
      "1084  j sale representative psr summary customer ori...   \n",
      "...                                                 ...   \n",
      "87    recruiting hr manager summary experienced corp...   \n",
      "76    directv hr recruiter administration summary go...   \n",
      "40    hr executive summary dual specialization domai...   \n",
      "587   founder business development director skill sa...   \n",
      "353   teacher summary thank taking time read present...   \n",
      "\n",
      "                                                 Skills  \n",
      "725   [support, security, support, sorting, document...  \n",
      "1565  [finance, accounting, marketing, business, dat...  \n",
      "1422  [engineering, civil engineering, engineering, ...  \n",
      "1145  [software, server, business, testing, deployme...  \n",
      "1084  [support, business, marketing, marketing, serv...  \n",
      "...                                                 ...  \n",
      "87    [software, business, business, software, suppo...  \n",
      "76    [support, documentation, database, medium, mar...  \n",
      "40    [finance, schedule, monitoring, schedule, moni...  \n",
      "587   [business, business, marketing, support, busin...  \n",
      "353   [documentation, business, collaboration, mater...  \n",
      "\n",
      "[195 rows x 2 columns]\n"
     ]
    }
   ],
   "source": [
    "# Reapply the extraction function\n",
    "sampled_resumes['Skills'] = sampled_resumes['Clean_Resume'].apply(lambda x: extract_skills(x,nlp))\n",
    "\n",
    "# Review the results\n",
    "print(sampled_resumes[['Clean_Resume', 'Skills']])\n"
   ]
  },
  {
   "cell_type": "code",
   "execution_count": 92,
   "id": "2abb59b4",
   "metadata": {},
   "outputs": [
    {
     "data": {
      "text/plain": [
       "725           [security, documentation, support, sorting]\n",
       "1565    [marketing, security, testing, accounting, bus...\n",
       "1422    [specification, storm, design, civil engineeri...\n",
       "1145    [marketing, testing, design, data processing, ...\n",
       "1084    [marketing, interaction, accounting, sketch, s...\n",
       "                              ...                        \n",
       "87      [marketing, accounting, material, schedule, tr...\n",
       "76      [marketing, accounting, business administratio...\n",
       "40                  [monitoring, play, finance, schedule]\n",
       "587     [marketing, material, business, mobile, suppor...\n",
       "353     [marketing, collaboration, material, business,...\n",
       "Name: Skills, Length: 195, dtype: object"
      ]
     },
     "execution_count": 92,
     "metadata": {},
     "output_type": "execute_result"
    }
   ],
   "source": [
    "# Removing dubplicate keywords\n",
    "sampled_resumes['Skills'] = sampled_resumes['Skills'].apply(lambda skills: list(set(skills)))\n",
    "sampled_resumes['Skills']\n"
   ]
  },
  {
   "cell_type": "code",
   "execution_count": 93,
   "id": "b626b910",
   "metadata": {
    "scrolled": true
   },
   "outputs": [
    {
     "data": {
      "image/png": "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\n",
      "text/plain": [
       "<Figure size 1200x800 with 1 Axes>"
      ]
     },
     "metadata": {},
     "output_type": "display_data"
    }
   ],
   "source": [
    "# Plotting Job Distribution\n",
    "plt.figure(figsize=(12, 8))\n",
    "sns.countplot(y='category', data=sampled_resumes, order = sampled_resumes['category'].value_counts().index)\n",
    "plt.title('Job Distribution')\n",
    "plt.xlabel('Number of Resumes')\n",
    "plt.ylabel('Job Categories')\n",
    "plt.show()\n"
   ]
  },
  {
   "cell_type": "code",
   "execution_count": 109,
   "id": "1c0d38f8",
   "metadata": {},
   "outputs": [
    {
     "name": "stdout",
     "output_type": "stream",
     "text": [
      "[' and OEM products for vendor/reseller management', ' worked closely with end customer and subcontractors (Solectron', 'ACCOUNTANT', 'ADVOCATE', 'AGRICULTURE', 'APPAREL', 'ARTS', 'AUTOMOBILE', 'AVIATION', 'BANKING', 'BPO', 'BUSINESS-DEVELOPMENT', 'CHEF', 'CONSTRUCTION', 'CONSULTANT', 'DESIGNER', 'DIGITAL-MEDIA', 'ENGINEERING', 'FITNESS', 'HEALTHCARE', 'HR', 'INFORMATION-TECHNOLOGY', 'PUBLIC-RELATIONS', 'SALES', 'TEACHER', 'ALL']\n"
     ]
    }
   ],
   "source": [
    "# Extract unique job categories\n",
    "unique_categories = sampled_resumes['category'].unique().tolist()\n",
    "unique_categories.sort()  # Sort the categories if needed\n",
    "unique_categories.append('ALL')  # Add an 'ALL' option for overall skills trends\n",
    "\n",
    "# Display the unique categories\n",
    "print(unique_categories)\n"
   ]
  },
  {
   "cell_type": "code",
   "execution_count": 138,
   "id": "e1c3262a",
   "metadata": {
    "scrolled": true
   },
   "outputs": [
    {
     "name": "stdout",
     "output_type": "stream",
     "text": [
      "Top Skills for INFORMATION-TECHNOLOGY: [('support', 6), ('business', 5), ('server', 5), ('software', 5), ('security', 4), ('design', 4), ('documentation', 4), ('project management', 4), ('material', 3), ('database', 3)]\n"
     ]
    },
    {
     "data": {
      "image/png": "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\n",
      "text/plain": [
       "<Figure size 1000x800 with 1 Axes>"
      ]
     },
     "metadata": {},
     "output_type": "display_data"
    }
   ],
   "source": [
    "\n",
    "\n",
    "def get_top_skills(data, category=None, top_n=10):\n",
    "    if category == 'ALL':\n",
    "        # Flatten all skills lists and count occurrences\n",
    "        all_skills = [skill for sublist in sampled_resumes['Skills'] for skill in sublist]\n",
    "    else:\n",
    "        # Filter data by category and flatten skills lists\n",
    "        filtered_data = sampled_resumes[sampled_resumes['category'] == category]\n",
    "        all_skills = [skill for sublist in filtered_data['Skills'] for skill in sublist]\n",
    "\n",
    "    # Count skills and get the most common ones\n",
    "    skill_counts = Counter(all_skills)\n",
    "    top_skills = skill_counts.most_common(top_n)\n",
    "    \n",
    "    return top_skills\n",
    "\n",
    "\n",
    "def plot_skills_distribution(top_skills, category):\n",
    "    skills, counts = zip(*top_skills)\n",
    "    plt.figure(figsize=(10, 8))\n",
    "    plt.barh(skills, counts, color='skyblue')\n",
    "    plt.xlabel('Frequency')\n",
    "    plt.ylabel('Skills')\n",
    "    plt.title(f'Top {len(skills)} Skills in {category}')\n",
    "    plt.gca().invert_yaxis()\n",
    "    plt.show()\n",
    "\n",
    "\n",
    "\n",
    "\n",
    "# get top skills for \"INFORMATION-TECHNOLOGY\"\n",
    "it_skills = get_top_skills(sampled_resumes, category='INFORMATION-TECHNOLOGY')\n",
    "print(\"Top Skills for INFORMATION-TECHNOLOGY:\", it_skills)\n",
    "\n",
    "plot_skills_distribution(it_skills, 'Information Technology')\n",
    "\n",
    "\n",
    "\n"
   ]
  },
  {
   "cell_type": "code",
   "execution_count": 148,
   "id": "2f7858f1",
   "metadata": {},
   "outputs": [],
   "source": [
    "colors = {\n",
    "    \"Job-Category\": \"linear-gradient(90deg, #f48fb1, #ce93d8)\",  # Pink to purple gradient\n",
    "    \"SKILL\": \"linear-gradient(90deg, #80deea, #18ffff)\",  # Cyan to bright cyan gradient\n",
    "    \"ORG\": \"#ffb74d\",  # Orange\n",
    "    \"PERSON\": \"#64b5f6\",  # Blue\n",
    "    \"GPE\": \"#aed581\",  # Light green\n",
    "    \"DATE\": \"#ff8a65\",  # Deep orange\n",
    "    \"ORDINAL\": \"#ba68c8\",  # Purple\n",
    "    \"PRODUCT\": \"#ffccbc\"   # Light red\n",
    "}\n",
    "options = {\n",
    "    \"ents\": [\"Job-Category\", \"SKILL\", \"ORG\", \"PERSON\", \"GPE\", \"DATE\", \"ORDINAL\", \"PRODUCT\"],\n",
    "    \"colors\": colors\n",
    "}\n"
   ]
  },
  {
   "cell_type": "code",
   "execution_count": 150,
   "id": "311d9c84",
   "metadata": {},
   "outputs": [
    {
     "data": {
      "text/html": [
       "<span class=\"tex2jax_ignore\"><div class=\"entities\" style=\"line-height: 2.5; direction: ltr\">         \n",
       "<mark class=\"entity\" style=\"background: #ffb74d; padding: 0.45em 0.6em; margin: 0 0.25em; line-height: 1; border-radius: 0.35em;\">\n",
       "    GEEK SQUAD AGENT         Professional Profile    \n",
       "    <span style=\"font-size: 0.8em; font-weight: bold; line-height: 1; border-radius: 0.35em; vertical-align: middle; margin-left: 0.5rem\">ORG</span>\n",
       "</mark>\n",
       "IT \n",
       "<mark class=\"entity\" style=\"background: linear-gradient(90deg, #80deea, #18ffff); padding: 0.45em 0.6em; margin: 0 0.25em; line-height: 1; border-radius: 0.35em;\">\n",
       "    support\n",
       "    <span style=\"font-size: 0.8em; font-weight: bold; line-height: 1; border-radius: 0.35em; vertical-align: middle; margin-left: 0.5rem\">SKILL</span>\n",
       "</mark>\n",
       " specialist with experience across multiple disciplines including technical<br>\n",
       "<mark class=\"entity\" style=\"background: linear-gradient(90deg, #80deea, #18ffff); padding: 0.45em 0.6em; margin: 0 0.25em; line-height: 1; border-radius: 0.35em;\">\n",
       "    support\n",
       "    <span style=\"font-size: 0.8em; font-weight: bold; line-height: 1; border-radius: 0.35em; vertical-align: middle; margin-left: 0.5rem\">SKILL</span>\n",
       "</mark>\n",
       ", customer service, computer repair, and military service. I am hard working,<br>willing to learn, team oriented, and comfortable working independently as well.      Qualifications        \n",
       "<mark class=\"entity\" style=\"background: linear-gradient(90deg, #80deea, #18ffff); padding: 0.45em 0.6em; margin: 0 0.25em; line-height: 1; border-radius: 0.35em;\">\n",
       "    Windows\n",
       "    <span style=\"font-size: 0.8em; font-weight: bold; line-height: 1; border-radius: 0.35em; vertical-align: middle; margin-left: 0.5rem\">SKILL</span>\n",
       "</mark>\n",
       " / Mac / \n",
       "<mark class=\"entity\" style=\"background: linear-gradient(90deg, #80deea, #18ffff); padding: 0.45em 0.6em; margin: 0 0.25em; line-height: 1; border-radius: 0.35em;\">\n",
       "    IOS\n",
       "    <span style=\"font-size: 0.8em; font-weight: bold; line-height: 1; border-radius: 0.35em; vertical-align: middle; margin-left: 0.5rem\">SKILL</span>\n",
       "</mark>\n",
       " / \n",
       "<mark class=\"entity\" style=\"background: linear-gradient(90deg, #80deea, #18ffff); padding: 0.45em 0.6em; margin: 0 0.25em; line-height: 1; border-radius: 0.35em;\">\n",
       "    Android\n",
       "    <span style=\"font-size: 0.8em; font-weight: bold; line-height: 1; border-radius: 0.35em; vertical-align: middle; margin-left: 0.5rem\">SKILL</span>\n",
       "</mark>\n",
       " Technical \n",
       "<mark class=\"entity\" style=\"background: linear-gradient(90deg, #80deea, #18ffff); padding: 0.45em 0.6em; margin: 0 0.25em; line-height: 1; border-radius: 0.35em;\">\n",
       "    Support\n",
       "    <span style=\"font-size: 0.8em; font-weight: bold; line-height: 1; border-radius: 0.35em; vertical-align: middle; margin-left: 0.5rem\">SKILL</span>\n",
       "</mark>\n",
       " <br>Hardware &amp; \n",
       "<mark class=\"entity\" style=\"background: linear-gradient(90deg, #80deea, #18ffff); padding: 0.45em 0.6em; margin: 0 0.25em; line-height: 1; border-radius: 0.35em;\">\n",
       "    Software\n",
       "    <span style=\"font-size: 0.8em; font-weight: bold; line-height: 1; border-radius: 0.35em; vertical-align: middle; margin-left: 0.5rem\">SKILL</span>\n",
       "</mark>\n",
       " Maintenance User Training <br>Malware Detection &amp; Removal  Customer Service <br>\n",
       "<mark class=\"entity\" style=\"background: #ffb74d; padding: 0.45em 0.6em; margin: 0 0.25em; line-height: 1; border-radius: 0.35em;\">\n",
       "    Entry Level Active Directory &amp; Ticketing Problem Solving &amp; Research              \n",
       "    <span style=\"font-size: 0.8em; font-weight: bold; line-height: 1; border-radius: 0.35em; vertical-align: middle; margin-left: 0.5rem\">ORG</span>\n",
       "</mark>\n",
       "Experience      Company Name     \n",
       "<mark class=\"entity\" style=\"background: #ff8a65; padding: 0.45em 0.6em; margin: 0 0.25em; line-height: 1; border-radius: 0.35em;\">\n",
       "    August 2014\n",
       "    <span style=\"font-size: 0.8em; font-weight: bold; line-height: 1; border-radius: 0.35em; vertical-align: middle; margin-left: 0.5rem\">DATE</span>\n",
       "</mark>\n",
       "   to   \n",
       "<mark class=\"entity\" style=\"background: #ff8a65; padding: 0.45em 0.6em; margin: 0 0.25em; line-height: 1; border-radius: 0.35em;\">\n",
       "    October 2016\n",
       "    <span style=\"font-size: 0.8em; font-weight: bold; line-height: 1; border-radius: 0.35em; vertical-align: middle; margin-left: 0.5rem\">DATE</span>\n",
       "</mark>\n",
       "     \n",
       "<mark class=\"entity\" style=\"background: #ffb74d; padding: 0.45em 0.6em; margin: 0 0.25em; line-height: 1; border-radius: 0.35em;\">\n",
       "    Geek Squad\n",
       "    <span style=\"font-size: 0.8em; font-weight: bold; line-height: 1; border-radius: 0.35em; vertical-align: middle; margin-left: 0.5rem\">ORG</span>\n",
       "</mark>\n",
       " Agent   City  ,   State      Provided technical \n",
       "<mark class=\"entity\" style=\"background: linear-gradient(90deg, #80deea, #18ffff); padding: 0.45em 0.6em; margin: 0 0.25em; line-height: 1; border-radius: 0.35em;\">\n",
       "    support\n",
       "    <span style=\"font-size: 0.8em; font-weight: bold; line-height: 1; border-radius: 0.35em; vertical-align: middle; margin-left: 0.5rem\">SKILL</span>\n",
       "</mark>\n",
       " in person and over the phone.  Performed hardware and \n",
       "<mark class=\"entity\" style=\"background: linear-gradient(90deg, #80deea, #18ffff); padding: 0.45em 0.6em; margin: 0 0.25em; line-height: 1; border-radius: 0.35em;\">\n",
       "    software\n",
       "    <span style=\"font-size: 0.8em; font-weight: bold; line-height: 1; border-radius: 0.35em; vertical-align: middle; margin-left: 0.5rem\">SKILL</span>\n",
       "</mark>\n",
       " installation and repair.  Refurbished and setup PCs and peripheral devices.          Company Name     \n",
       "<mark class=\"entity\" style=\"background: #ff8a65; padding: 0.45em 0.6em; margin: 0 0.25em; line-height: 1; border-radius: 0.35em;\">\n",
       "    January 2013\n",
       "    <span style=\"font-size: 0.8em; font-weight: bold; line-height: 1; border-radius: 0.35em; vertical-align: middle; margin-left: 0.5rem\">DATE</span>\n",
       "</mark>\n",
       "   to   \n",
       "<mark class=\"entity\" style=\"background: #ff8a65; padding: 0.45em 0.6em; margin: 0 0.25em; line-height: 1; border-radius: 0.35em;\">\n",
       "    January 2014\n",
       "    <span style=\"font-size: 0.8em; font-weight: bold; line-height: 1; border-radius: 0.35em; vertical-align: middle; margin-left: 0.5rem\">DATE</span>\n",
       "</mark>\n",
       "     Shipping &amp; Receiving Associate   City  ,   State      Performed shipping and receiving of product.  Assisted with inventory management.  General logistics and warehouse duties.          Company Name     \n",
       "<mark class=\"entity\" style=\"background: #ff8a65; padding: 0.45em 0.6em; margin: 0 0.25em; line-height: 1; border-radius: 0.35em;\">\n",
       "    January 2009\n",
       "    <span style=\"font-size: 0.8em; font-weight: bold; line-height: 1; border-radius: 0.35em; vertical-align: middle; margin-left: 0.5rem\">DATE</span>\n",
       "</mark>\n",
       "   to   \n",
       "<mark class=\"entity\" style=\"background: #ff8a65; padding: 0.45em 0.6em; margin: 0 0.25em; line-height: 1; border-radius: 0.35em;\">\n",
       "    January 2012\n",
       "    <span style=\"font-size: 0.8em; font-weight: bold; line-height: 1; border-radius: 0.35em; vertical-align: middle; margin-left: 0.5rem\">DATE</span>\n",
       "</mark>\n",
       "     \n",
       "<mark class=\"entity\" style=\"background: #ffb74d; padding: 0.45em 0.6em; margin: 0 0.25em; line-height: 1; border-radius: 0.35em;\">\n",
       "    Assembler/Shipping &amp; Receiving Associate\n",
       "    <span style=\"font-size: 0.8em; font-weight: bold; line-height: 1; border-radius: 0.35em; vertical-align: middle; margin-left: 0.5rem\">ORG</span>\n",
       "</mark>\n",
       "   City  ,   State      Assembled and tested tanks according to specifications.  \n",
       "<mark class=\"entity\" style=\"background: #aed581; padding: 0.45em 0.6em; margin: 0 0.25em; line-height: 1; border-radius: 0.35em;\">\n",
       "    Maintained\n",
       "    <span style=\"font-size: 0.8em; font-weight: bold; line-height: 1; border-radius: 0.35em; vertical-align: middle; margin-left: 0.5rem\">GPE</span>\n",
       "</mark>\n",
       " inventory of tools and supplies.  Performed shipping and receiving duties.          Company Name     \n",
       "<mark class=\"entity\" style=\"background: #ff8a65; padding: 0.45em 0.6em; margin: 0 0.25em; line-height: 1; border-radius: 0.35em;\">\n",
       "    January 2005\n",
       "    <span style=\"font-size: 0.8em; font-weight: bold; line-height: 1; border-radius: 0.35em; vertical-align: middle; margin-left: 0.5rem\">DATE</span>\n",
       "</mark>\n",
       "   to   \n",
       "<mark class=\"entity\" style=\"background: #ff8a65; padding: 0.45em 0.6em; margin: 0 0.25em; line-height: 1; border-radius: 0.35em;\">\n",
       "    January 2009\n",
       "    <span style=\"font-size: 0.8em; font-weight: bold; line-height: 1; border-radius: 0.35em; vertical-align: middle; margin-left: 0.5rem\">DATE</span>\n",
       "</mark>\n",
       "     Aviation Electrician   City  ,   State      Performed troubleshooting and maintenance of aircraft.  \n",
       "<mark class=\"entity\" style=\"background: #ffb74d; padding: 0.45em 0.6em; margin: 0 0.25em; line-height: 1; border-radius: 0.35em;\">\n",
       "    Performed\n",
       "    <span style=\"font-size: 0.8em; font-weight: bold; line-height: 1; border-radius: 0.35em; vertical-align: middle; margin-left: 0.5rem\">ORG</span>\n",
       "</mark>\n",
       " ground handling and marshalling of aircraft.  \n",
       "<mark class=\"entity\" style=\"background: #64b5f6; padding: 0.45em 0.6em; margin: 0 0.25em; line-height: 1; border-radius: 0.35em;\">\n",
       "    Performed\n",
       "    <span style=\"font-size: 0.8em; font-weight: bold; line-height: 1; border-radius: 0.35em; vertical-align: middle; margin-left: 0.5rem\">PERSON</span>\n",
       "</mark>\n",
       " \n",
       "<mark class=\"entity\" style=\"background: #ff8a65; padding: 0.45em 0.6em; margin: 0 0.25em; line-height: 1; border-radius: 0.35em;\">\n",
       "    daily\n",
       "    <span style=\"font-size: 0.8em; font-weight: bold; line-height: 1; border-radius: 0.35em; vertical-align: middle; margin-left: 0.5rem\">DATE</span>\n",
       "</mark>\n",
       " safe for flight inspections.          Education      Purdue University     2014       B.S  :   \n",
       "<mark class=\"entity\" style=\"background: #ffb74d; padding: 0.45em 0.6em; margin: 0 0.25em; line-height: 1; border-radius: 0.35em;\">\n",
       "    Computer &amp; Information Technology    City\n",
       "    <span style=\"font-size: 0.8em; font-weight: bold; line-height: 1; border-radius: 0.35em; vertical-align: middle; margin-left: 0.5rem\">ORG</span>\n",
       "</mark>\n",
       "  ,   \n",
       "<mark class=\"entity\" style=\"background: #ffb74d; padding: 0.45em 0.6em; margin: 0 0.25em; line-height: 1; border-radius: 0.35em;\">\n",
       "    State      Computer &amp; Information Technology          Skills    Active Directory, Hardware, Customer Service\n",
       "    <span style=\"font-size: 0.8em; font-weight: bold; line-height: 1; border-radius: 0.35em; vertical-align: middle; margin-left: 0.5rem\">ORG</span>\n",
       "</mark>\n",
       ", inventory management, inventory, logistics, \n",
       "<mark class=\"entity\" style=\"background: #aed581; padding: 0.45em 0.6em; margin: 0 0.25em; line-height: 1; border-radius: 0.35em;\">\n",
       "    Mac\n",
       "    <span style=\"font-size: 0.8em; font-weight: bold; line-height: 1; border-radius: 0.35em; vertical-align: middle; margin-left: 0.5rem\">GPE</span>\n",
       "</mark>\n",
       ", \n",
       "<mark class=\"entity\" style=\"background: #ffb74d; padding: 0.45em 0.6em; margin: 0 0.25em; line-height: 1; border-radius: 0.35em;\">\n",
       "    Windows, Problem Solving\n",
       "    <span style=\"font-size: 0.8em; font-weight: bold; line-height: 1; border-radius: 0.35em; vertical-align: middle; margin-left: 0.5rem\">ORG</span>\n",
       "</mark>\n",
       ", receiving, \n",
       "<mark class=\"entity\" style=\"background: #ffb74d; padding: 0.45em 0.6em; margin: 0 0.25em; line-height: 1; border-radius: 0.35em;\">\n",
       "    Research\n",
       "    <span style=\"font-size: 0.8em; font-weight: bold; line-height: 1; border-radius: 0.35em; vertical-align: middle; margin-left: 0.5rem\">ORG</span>\n",
       "</mark>\n",
       ", shipping, \n",
       "<mark class=\"entity\" style=\"background: linear-gradient(90deg, #80deea, #18ffff); padding: 0.45em 0.6em; margin: 0 0.25em; line-height: 1; border-radius: 0.35em;\">\n",
       "    software\n",
       "    <span style=\"font-size: 0.8em; font-weight: bold; line-height: 1; border-radius: 0.35em; vertical-align: middle; margin-left: 0.5rem\">SKILL</span>\n",
       "</mark>\n",
       " installation, technical \n",
       "<mark class=\"entity\" style=\"background: linear-gradient(90deg, #80deea, #18ffff); padding: 0.45em 0.6em; margin: 0 0.25em; line-height: 1; border-radius: 0.35em;\">\n",
       "    support\n",
       "    <span style=\"font-size: 0.8em; font-weight: bold; line-height: 1; border-radius: 0.35em; vertical-align: middle; margin-left: 0.5rem\">SKILL</span>\n",
       "</mark>\n",
       ", \n",
       "<mark class=\"entity\" style=\"background: #ffb74d; padding: 0.45em 0.6em; margin: 0 0.25em; line-height: 1; border-radius: 0.35em;\">\n",
       "    User Training\n",
       "    <span style=\"font-size: 0.8em; font-weight: bold; line-height: 1; border-radius: 0.35em; vertical-align: middle; margin-left: 0.5rem\">ORG</span>\n",
       "</mark>\n",
       ", phone, troubleshooting   </div></span>"
      ],
      "text/plain": [
       "<IPython.core.display.HTML object>"
      ]
     },
     "metadata": {},
     "output_type": "display_data"
    }
   ],
   "source": [
    "#selecting random row from dataset\n",
    "doc = nlp(sampled_resumes['resume_str'].iloc[100])\n",
    "\n",
    "# Render the entities in Jupyter Notebook\n",
    "displacy.render(doc, style='ent', jupyter=True, options=options)\n"
   ]
  },
  {
   "cell_type": "code",
   "execution_count": 158,
   "id": "701a54a9",
   "metadata": {},
   "outputs": [],
   "source": [
    "def calculate_match_score(doc, required_skills):\n",
    "    if not required_skills:\n",
    "        return 0  # No skills to match against\n",
    "    # Extract skills from the doc where entities are labeled as 'SKILL'\n",
    "    resume_skills = {ent.text for ent in doc.ents if ent.label_ == \"SKILL\"}\n",
    "    required_skill_set = set(required_skills.split(','))\n",
    "    matched_skills = required_skill_set.intersection(resume_skills)\n",
    "    match_percentage = (len(matched_skills) / len(required_skill_set)) * 100 if required_skill_set else 0\n",
    "    return match_percentage\n"
   ]
  },
  {
   "cell_type": "code",
   "execution_count": 162,
   "id": "53b8ea9f",
   "metadata": {},
   "outputs": [
    {
     "name": "stdout",
     "output_type": "stream",
     "text": [
      "Enter required skills separated by commas (e.g., Python,Machine Learning,SQL): IOS\n",
      "Match Score: 100.00%\n"
     ]
    }
   ],
   "source": [
    "def main():\n",
    "    # Process the resume text using spaCy\n",
    "    doc = nlp(sampled_resumes['resume_str'].iloc[100])  # Adjust index as needed\n",
    "\n",
    "    # Prompt the user to enter required skills\n",
    "    input_skills = input(\"Enter required skills separated by commas (e.g., Python,Machine Learning,SQL): \")\n",
    "    \n",
    "    # Calculate match score using the doc and input skills\n",
    "    match_score = calculate_match_score(doc, input_skills)\n",
    "    \n",
    "    # Print the match percentage\n",
    "    print(f\"Match Score: {match_score:.2f}%\")\n",
    "\n",
    "if __name__ == \"__main__\":\n",
    "    main()\n"
   ]
  },
  {
   "cell_type": "code",
   "execution_count": null,
   "id": "0acc93d5",
   "metadata": {},
   "outputs": [],
   "source": []
  }
 ],
 "metadata": {
  "kernelspec": {
   "display_name": "Python 3 (ipykernel)",
   "language": "python",
   "name": "python3"
  },
  "language_info": {
   "codemirror_mode": {
    "name": "ipython",
    "version": 3
   },
   "file_extension": ".py",
   "mimetype": "text/x-python",
   "name": "python",
   "nbconvert_exporter": "python",
   "pygments_lexer": "ipython3",
   "version": "3.11.0"
  }
 },
 "nbformat": 4,
 "nbformat_minor": 5
}
